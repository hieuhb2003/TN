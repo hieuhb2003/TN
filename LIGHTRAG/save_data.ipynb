{
 "cells": [
  {
   "cell_type": "code",
   "execution_count": 1,
   "metadata": {},
   "outputs": [
    {
     "name": "stdout",
     "output_type": "stream",
     "text": [
      "Files in original: ['original/merged_queries_en.json', 'original/merged_queries_vi.json']\n",
      "Files in eval: ['eval/data_eval_law_dev_queries.json', 'eval/data_eval_law_dev_queries_en.json', 'eval/filtered_corpus.json', 'eval/filtered_corpus_en.json']\n",
      "Files in synthetic: ['synthetic/cross_corpus.parquet', 'synthetic/cross_queries.parquet']\n"
     ]
    },
    {
     "ename": "HfHubHTTPError",
     "evalue": "401 Client Error: Unauthorized for url: https://huggingface.co/datasets/bkai-foundation-models/crosslingual/resolve/main/original/merged_queries_en.json (Request ID: Root=1-67e7c800-485a6a5d3a4ea5b74bd820f4;7ae69a46-db8e-41ae-86f0-6aefba8ca365)\n\nInvalid credentials in Authorization header",
     "output_type": "error",
     "traceback": [
      "\u001b[31m---------------------------------------------------------------------------\u001b[39m",
      "\u001b[31mHTTPError\u001b[39m                                 Traceback (most recent call last)",
      "\u001b[36mFile \u001b[39m\u001b[32mc:\\Users\\mhieu\\anaconda3\\envs\\rag\\Lib\\site-packages\\huggingface_hub\\utils\\_http.py:409\u001b[39m, in \u001b[36mhf_raise_for_status\u001b[39m\u001b[34m(response, endpoint_name)\u001b[39m\n\u001b[32m    408\u001b[39m \u001b[38;5;28;01mtry\u001b[39;00m:\n\u001b[32m--> \u001b[39m\u001b[32m409\u001b[39m     \u001b[43mresponse\u001b[49m\u001b[43m.\u001b[49m\u001b[43mraise_for_status\u001b[49m\u001b[43m(\u001b[49m\u001b[43m)\u001b[49m\n\u001b[32m    410\u001b[39m \u001b[38;5;28;01mexcept\u001b[39;00m HTTPError \u001b[38;5;28;01mas\u001b[39;00m e:\n",
      "\u001b[36mFile \u001b[39m\u001b[32mc:\\Users\\mhieu\\anaconda3\\envs\\rag\\Lib\\site-packages\\requests\\models.py:1024\u001b[39m, in \u001b[36mResponse.raise_for_status\u001b[39m\u001b[34m(self)\u001b[39m\n\u001b[32m   1023\u001b[39m \u001b[38;5;28;01mif\u001b[39;00m http_error_msg:\n\u001b[32m-> \u001b[39m\u001b[32m1024\u001b[39m     \u001b[38;5;28;01mraise\u001b[39;00m HTTPError(http_error_msg, response=\u001b[38;5;28mself\u001b[39m)\n",
      "\u001b[31mHTTPError\u001b[39m: 401 Client Error: Unauthorized for url: https://huggingface.co/datasets/bkai-foundation-models/crosslingual/resolve/main/original/merged_queries_en.json",
      "\nThe above exception was the direct cause of the following exception:\n",
      "\u001b[31mHfHubHTTPError\u001b[39m                            Traceback (most recent call last)",
      "\u001b[36mCell\u001b[39m\u001b[36m \u001b[39m\u001b[32mIn[1]\u001b[39m\u001b[32m, line 34\u001b[39m\n\u001b[32m     32\u001b[39m \u001b[38;5;28;01mfor\u001b[39;00m file \u001b[38;5;129;01min\u001b[39;00m files:\n\u001b[32m     33\u001b[39m     file = file.split(\u001b[33m\"\u001b[39m\u001b[33m/\u001b[39m\u001b[33m\"\u001b[39m)[\u001b[32m1\u001b[39m]\n\u001b[32m---> \u001b[39m\u001b[32m34\u001b[39m     \u001b[43mhf_hub_download\u001b[49m\u001b[43m(\u001b[49m\u001b[43mrepo_id\u001b[49m\u001b[43m=\u001b[49m\u001b[43mREPO_ID\u001b[49m\u001b[43m,\u001b[49m\u001b[43m \u001b[49m\u001b[43msubfolder\u001b[49m\u001b[43m=\u001b[49m\u001b[43mfolder\u001b[49m\u001b[43m,\u001b[49m\u001b[43m \u001b[49m\u001b[43mrepo_type\u001b[49m\u001b[43m=\u001b[49m\u001b[33;43m\"\u001b[39;49m\u001b[33;43mdataset\u001b[39;49m\u001b[33;43m\"\u001b[39;49m\u001b[43m,\u001b[49m\u001b[43m \u001b[49m\u001b[43mfilename\u001b[49m\u001b[43m=\u001b[49m\u001b[43mfile\u001b[49m\u001b[43m,\u001b[49m\u001b[43m \u001b[49m\u001b[43mlocal_dir\u001b[49m\u001b[43m=\u001b[49m\u001b[33;43m\"\u001b[39;49m\u001b[33;43mdata\u001b[39;49m\u001b[33;43m\"\u001b[39;49m\u001b[43m)\u001b[49m\n",
      "\u001b[36mFile \u001b[39m\u001b[32mc:\\Users\\mhieu\\anaconda3\\envs\\rag\\Lib\\site-packages\\huggingface_hub\\utils\\_validators.py:114\u001b[39m, in \u001b[36mvalidate_hf_hub_args.<locals>._inner_fn\u001b[39m\u001b[34m(*args, **kwargs)\u001b[39m\n\u001b[32m    111\u001b[39m \u001b[38;5;28;01mif\u001b[39;00m check_use_auth_token:\n\u001b[32m    112\u001b[39m     kwargs = smoothly_deprecate_use_auth_token(fn_name=fn.\u001b[34m__name__\u001b[39m, has_token=has_token, kwargs=kwargs)\n\u001b[32m--> \u001b[39m\u001b[32m114\u001b[39m \u001b[38;5;28;01mreturn\u001b[39;00m \u001b[43mfn\u001b[49m\u001b[43m(\u001b[49m\u001b[43m*\u001b[49m\u001b[43margs\u001b[49m\u001b[43m,\u001b[49m\u001b[43m \u001b[49m\u001b[43m*\u001b[49m\u001b[43m*\u001b[49m\u001b[43mkwargs\u001b[49m\u001b[43m)\u001b[49m\n",
      "\u001b[36mFile \u001b[39m\u001b[32mc:\\Users\\mhieu\\anaconda3\\envs\\rag\\Lib\\site-packages\\huggingface_hub\\file_download.py:842\u001b[39m, in \u001b[36mhf_hub_download\u001b[39m\u001b[34m(repo_id, filename, subfolder, repo_type, revision, library_name, library_version, cache_dir, local_dir, user_agent, force_download, proxies, etag_timeout, token, local_files_only, headers, endpoint, resume_download, force_filename, local_dir_use_symlinks)\u001b[39m\n\u001b[32m    833\u001b[39m     \u001b[38;5;28;01mif\u001b[39;00m local_dir_use_symlinks != \u001b[33m\"\u001b[39m\u001b[33mauto\u001b[39m\u001b[33m\"\u001b[39m:\n\u001b[32m    834\u001b[39m         warnings.warn(\n\u001b[32m    835\u001b[39m             \u001b[33m\"\u001b[39m\u001b[33m`local_dir_use_symlinks` parameter is deprecated and will be ignored. \u001b[39m\u001b[33m\"\u001b[39m\n\u001b[32m    836\u001b[39m             \u001b[33m\"\u001b[39m\u001b[33mThe process to download files to a local folder has been updated and do \u001b[39m\u001b[33m\"\u001b[39m\n\u001b[32m   (...)\u001b[39m\u001b[32m    839\u001b[39m             \u001b[33m\"\u001b[39m\u001b[33mFor more details, check out https://huggingface.co/docs/huggingface_hub/main/en/guides/download#download-files-to-local-folder.\u001b[39m\u001b[33m\"\u001b[39m\n\u001b[32m    840\u001b[39m         )\n\u001b[32m--> \u001b[39m\u001b[32m842\u001b[39m     \u001b[38;5;28;01mreturn\u001b[39;00m \u001b[43m_hf_hub_download_to_local_dir\u001b[49m\u001b[43m(\u001b[49m\n\u001b[32m    843\u001b[39m \u001b[43m        \u001b[49m\u001b[38;5;66;43;03m# Destination\u001b[39;49;00m\n\u001b[32m    844\u001b[39m \u001b[43m        \u001b[49m\u001b[43mlocal_dir\u001b[49m\u001b[43m=\u001b[49m\u001b[43mlocal_dir\u001b[49m\u001b[43m,\u001b[49m\n\u001b[32m    845\u001b[39m \u001b[43m        \u001b[49m\u001b[38;5;66;43;03m# File info\u001b[39;49;00m\n\u001b[32m    846\u001b[39m \u001b[43m        \u001b[49m\u001b[43mrepo_id\u001b[49m\u001b[43m=\u001b[49m\u001b[43mrepo_id\u001b[49m\u001b[43m,\u001b[49m\n\u001b[32m    847\u001b[39m \u001b[43m        \u001b[49m\u001b[43mrepo_type\u001b[49m\u001b[43m=\u001b[49m\u001b[43mrepo_type\u001b[49m\u001b[43m,\u001b[49m\n\u001b[32m    848\u001b[39m \u001b[43m        \u001b[49m\u001b[43mfilename\u001b[49m\u001b[43m=\u001b[49m\u001b[43mfilename\u001b[49m\u001b[43m,\u001b[49m\n\u001b[32m    849\u001b[39m \u001b[43m        \u001b[49m\u001b[43mrevision\u001b[49m\u001b[43m=\u001b[49m\u001b[43mrevision\u001b[49m\u001b[43m,\u001b[49m\n\u001b[32m    850\u001b[39m \u001b[43m        \u001b[49m\u001b[38;5;66;43;03m# HTTP info\u001b[39;49;00m\n\u001b[32m    851\u001b[39m \u001b[43m        \u001b[49m\u001b[43mendpoint\u001b[49m\u001b[43m=\u001b[49m\u001b[43mendpoint\u001b[49m\u001b[43m,\u001b[49m\n\u001b[32m    852\u001b[39m \u001b[43m        \u001b[49m\u001b[43metag_timeout\u001b[49m\u001b[43m=\u001b[49m\u001b[43metag_timeout\u001b[49m\u001b[43m,\u001b[49m\n\u001b[32m    853\u001b[39m \u001b[43m        \u001b[49m\u001b[43mheaders\u001b[49m\u001b[43m=\u001b[49m\u001b[43mhf_headers\u001b[49m\u001b[43m,\u001b[49m\n\u001b[32m    854\u001b[39m \u001b[43m        \u001b[49m\u001b[43mproxies\u001b[49m\u001b[43m=\u001b[49m\u001b[43mproxies\u001b[49m\u001b[43m,\u001b[49m\n\u001b[32m    855\u001b[39m \u001b[43m        \u001b[49m\u001b[43mtoken\u001b[49m\u001b[43m=\u001b[49m\u001b[43mtoken\u001b[49m\u001b[43m,\u001b[49m\n\u001b[32m    856\u001b[39m \u001b[43m        \u001b[49m\u001b[38;5;66;43;03m# Additional options\u001b[39;49;00m\n\u001b[32m    857\u001b[39m \u001b[43m        \u001b[49m\u001b[43mcache_dir\u001b[49m\u001b[43m=\u001b[49m\u001b[43mcache_dir\u001b[49m\u001b[43m,\u001b[49m\n\u001b[32m    858\u001b[39m \u001b[43m        \u001b[49m\u001b[43mforce_download\u001b[49m\u001b[43m=\u001b[49m\u001b[43mforce_download\u001b[49m\u001b[43m,\u001b[49m\n\u001b[32m    859\u001b[39m \u001b[43m        \u001b[49m\u001b[43mlocal_files_only\u001b[49m\u001b[43m=\u001b[49m\u001b[43mlocal_files_only\u001b[49m\u001b[43m,\u001b[49m\n\u001b[32m    860\u001b[39m \u001b[43m    \u001b[49m\u001b[43m)\u001b[49m\n\u001b[32m    861\u001b[39m \u001b[38;5;28;01melse\u001b[39;00m:\n\u001b[32m    862\u001b[39m     \u001b[38;5;28;01mreturn\u001b[39;00m _hf_hub_download_to_cache_dir(\n\u001b[32m    863\u001b[39m         \u001b[38;5;66;03m# Destination\u001b[39;00m\n\u001b[32m    864\u001b[39m         cache_dir=cache_dir,\n\u001b[32m   (...)\u001b[39m\u001b[32m    878\u001b[39m         force_download=force_download,\n\u001b[32m    879\u001b[39m     )\n",
      "\u001b[36mFile \u001b[39m\u001b[32mc:\\Users\\mhieu\\anaconda3\\envs\\rag\\Lib\\site-packages\\huggingface_hub\\file_download.py:1091\u001b[39m, in \u001b[36m_hf_hub_download_to_local_dir\u001b[39m\u001b[34m(local_dir, repo_id, repo_type, filename, revision, endpoint, etag_timeout, headers, proxies, token, cache_dir, force_download, local_files_only)\u001b[39m\n\u001b[32m   1089\u001b[39m         \u001b[38;5;28;01mreturn\u001b[39;00m \u001b[38;5;28mstr\u001b[39m(paths.file_path)\n\u001b[32m   1090\u001b[39m     \u001b[38;5;66;03m# Otherwise => raise\u001b[39;00m\n\u001b[32m-> \u001b[39m\u001b[32m1091\u001b[39m     \u001b[43m_raise_on_head_call_error\u001b[49m\u001b[43m(\u001b[49m\u001b[43mhead_call_error\u001b[49m\u001b[43m,\u001b[49m\u001b[43m \u001b[49m\u001b[43mforce_download\u001b[49m\u001b[43m,\u001b[49m\u001b[43m \u001b[49m\u001b[43mlocal_files_only\u001b[49m\u001b[43m)\u001b[49m\n\u001b[32m   1093\u001b[39m \u001b[38;5;66;03m# From now on, etag, commit_hash, url and size are not None.\u001b[39;00m\n\u001b[32m   1094\u001b[39m \u001b[38;5;28;01massert\u001b[39;00m etag \u001b[38;5;129;01mis\u001b[39;00m \u001b[38;5;129;01mnot\u001b[39;00m \u001b[38;5;28;01mNone\u001b[39;00m, \u001b[33m\"\u001b[39m\u001b[33metag must have been retrieved from server\u001b[39m\u001b[33m\"\u001b[39m\n",
      "\u001b[36mFile \u001b[39m\u001b[32mc:\\Users\\mhieu\\anaconda3\\envs\\rag\\Lib\\site-packages\\huggingface_hub\\file_download.py:1486\u001b[39m, in \u001b[36m_raise_on_head_call_error\u001b[39m\u001b[34m(head_call_error, force_download, local_files_only)\u001b[39m\n\u001b[32m   1477\u001b[39m     \u001b[38;5;28;01mraise\u001b[39;00m LocalEntryNotFoundError(\n\u001b[32m   1478\u001b[39m         \u001b[33m\"\u001b[39m\u001b[33mCannot find the requested files in the disk cache and outgoing traffic has been disabled. To enable\u001b[39m\u001b[33m\"\u001b[39m\n\u001b[32m   1479\u001b[39m         \u001b[33m\"\u001b[39m\u001b[33m hf.co look-ups and downloads online, set \u001b[39m\u001b[33m'\u001b[39m\u001b[33mlocal_files_only\u001b[39m\u001b[33m'\u001b[39m\u001b[33m to False.\u001b[39m\u001b[33m\"\u001b[39m\n\u001b[32m   1480\u001b[39m     )\n\u001b[32m   1481\u001b[39m \u001b[38;5;28;01melif\u001b[39;00m \u001b[38;5;28misinstance\u001b[39m(head_call_error, (RepositoryNotFoundError, GatedRepoError)) \u001b[38;5;129;01mor\u001b[39;00m (\n\u001b[32m   1482\u001b[39m     \u001b[38;5;28misinstance\u001b[39m(head_call_error, HfHubHTTPError) \u001b[38;5;129;01mand\u001b[39;00m head_call_error.response.status_code == \u001b[32m401\u001b[39m\n\u001b[32m   1483\u001b[39m ):\n\u001b[32m   1484\u001b[39m     \u001b[38;5;66;03m# Repo not found or gated => let's raise the actual error\u001b[39;00m\n\u001b[32m   1485\u001b[39m     \u001b[38;5;66;03m# Unauthorized => likely a token issue => let's raise the actual error\u001b[39;00m\n\u001b[32m-> \u001b[39m\u001b[32m1486\u001b[39m     \u001b[38;5;28;01mraise\u001b[39;00m head_call_error\n\u001b[32m   1487\u001b[39m \u001b[38;5;28;01melse\u001b[39;00m:\n\u001b[32m   1488\u001b[39m     \u001b[38;5;66;03m# Otherwise: most likely a connection issue or Hub downtime => let's warn the user\u001b[39;00m\n\u001b[32m   1489\u001b[39m     \u001b[38;5;28;01mraise\u001b[39;00m LocalEntryNotFoundError(\n\u001b[32m   1490\u001b[39m         \u001b[33m\"\u001b[39m\u001b[33mAn error happened while trying to locate the file on the Hub and we cannot find the requested files\u001b[39m\u001b[33m\"\u001b[39m\n\u001b[32m   1491\u001b[39m         \u001b[33m\"\u001b[39m\u001b[33m in the local cache. Please check your connection and try again or make sure your Internet connection\u001b[39m\u001b[33m\"\u001b[39m\n\u001b[32m   1492\u001b[39m         \u001b[33m\"\u001b[39m\u001b[33m is on.\u001b[39m\u001b[33m\"\u001b[39m\n\u001b[32m   1493\u001b[39m     ) \u001b[38;5;28;01mfrom\u001b[39;00m\u001b[38;5;250m \u001b[39m\u001b[34;01mhead_call_error\u001b[39;00m\n",
      "\u001b[36mFile \u001b[39m\u001b[32mc:\\Users\\mhieu\\anaconda3\\envs\\rag\\Lib\\site-packages\\huggingface_hub\\file_download.py:1376\u001b[39m, in \u001b[36m_get_metadata_or_catch_error\u001b[39m\u001b[34m(repo_id, filename, repo_type, revision, endpoint, proxies, etag_timeout, headers, token, local_files_only, relative_filename, storage_folder)\u001b[39m\n\u001b[32m   1374\u001b[39m \u001b[38;5;28;01mtry\u001b[39;00m:\n\u001b[32m   1375\u001b[39m     \u001b[38;5;28;01mtry\u001b[39;00m:\n\u001b[32m-> \u001b[39m\u001b[32m1376\u001b[39m         metadata = \u001b[43mget_hf_file_metadata\u001b[49m\u001b[43m(\u001b[49m\n\u001b[32m   1377\u001b[39m \u001b[43m            \u001b[49m\u001b[43murl\u001b[49m\u001b[43m=\u001b[49m\u001b[43murl\u001b[49m\u001b[43m,\u001b[49m\u001b[43m \u001b[49m\u001b[43mproxies\u001b[49m\u001b[43m=\u001b[49m\u001b[43mproxies\u001b[49m\u001b[43m,\u001b[49m\u001b[43m \u001b[49m\u001b[43mtimeout\u001b[49m\u001b[43m=\u001b[49m\u001b[43metag_timeout\u001b[49m\u001b[43m,\u001b[49m\u001b[43m \u001b[49m\u001b[43mheaders\u001b[49m\u001b[43m=\u001b[49m\u001b[43mheaders\u001b[49m\u001b[43m,\u001b[49m\u001b[43m \u001b[49m\u001b[43mtoken\u001b[49m\u001b[43m=\u001b[49m\u001b[43mtoken\u001b[49m\n\u001b[32m   1378\u001b[39m \u001b[43m        \u001b[49m\u001b[43m)\u001b[49m\n\u001b[32m   1379\u001b[39m     \u001b[38;5;28;01mexcept\u001b[39;00m EntryNotFoundError \u001b[38;5;28;01mas\u001b[39;00m http_error:\n\u001b[32m   1380\u001b[39m         \u001b[38;5;28;01mif\u001b[39;00m storage_folder \u001b[38;5;129;01mis\u001b[39;00m \u001b[38;5;129;01mnot\u001b[39;00m \u001b[38;5;28;01mNone\u001b[39;00m \u001b[38;5;129;01mand\u001b[39;00m relative_filename \u001b[38;5;129;01mis\u001b[39;00m \u001b[38;5;129;01mnot\u001b[39;00m \u001b[38;5;28;01mNone\u001b[39;00m:\n\u001b[32m   1381\u001b[39m             \u001b[38;5;66;03m# Cache the non-existence of the file\u001b[39;00m\n",
      "\u001b[36mFile \u001b[39m\u001b[32mc:\\Users\\mhieu\\anaconda3\\envs\\rag\\Lib\\site-packages\\huggingface_hub\\utils\\_validators.py:114\u001b[39m, in \u001b[36mvalidate_hf_hub_args.<locals>._inner_fn\u001b[39m\u001b[34m(*args, **kwargs)\u001b[39m\n\u001b[32m    111\u001b[39m \u001b[38;5;28;01mif\u001b[39;00m check_use_auth_token:\n\u001b[32m    112\u001b[39m     kwargs = smoothly_deprecate_use_auth_token(fn_name=fn.\u001b[34m__name__\u001b[39m, has_token=has_token, kwargs=kwargs)\n\u001b[32m--> \u001b[39m\u001b[32m114\u001b[39m \u001b[38;5;28;01mreturn\u001b[39;00m \u001b[43mfn\u001b[49m\u001b[43m(\u001b[49m\u001b[43m*\u001b[49m\u001b[43margs\u001b[49m\u001b[43m,\u001b[49m\u001b[43m \u001b[49m\u001b[43m*\u001b[49m\u001b[43m*\u001b[49m\u001b[43mkwargs\u001b[49m\u001b[43m)\u001b[49m\n",
      "\u001b[36mFile \u001b[39m\u001b[32mc:\\Users\\mhieu\\anaconda3\\envs\\rag\\Lib\\site-packages\\huggingface_hub\\file_download.py:1296\u001b[39m, in \u001b[36mget_hf_file_metadata\u001b[39m\u001b[34m(url, token, proxies, timeout, library_name, library_version, user_agent, headers)\u001b[39m\n\u001b[32m   1293\u001b[39m hf_headers[\u001b[33m\"\u001b[39m\u001b[33mAccept-Encoding\u001b[39m\u001b[33m\"\u001b[39m] = \u001b[33m\"\u001b[39m\u001b[33midentity\u001b[39m\u001b[33m\"\u001b[39m  \u001b[38;5;66;03m# prevent any compression => we want to know the real size of the file\u001b[39;00m\n\u001b[32m   1295\u001b[39m \u001b[38;5;66;03m# Retrieve metadata\u001b[39;00m\n\u001b[32m-> \u001b[39m\u001b[32m1296\u001b[39m r = \u001b[43m_request_wrapper\u001b[49m\u001b[43m(\u001b[49m\n\u001b[32m   1297\u001b[39m \u001b[43m    \u001b[49m\u001b[43mmethod\u001b[49m\u001b[43m=\u001b[49m\u001b[33;43m\"\u001b[39;49m\u001b[33;43mHEAD\u001b[39;49m\u001b[33;43m\"\u001b[39;49m\u001b[43m,\u001b[49m\n\u001b[32m   1298\u001b[39m \u001b[43m    \u001b[49m\u001b[43murl\u001b[49m\u001b[43m=\u001b[49m\u001b[43murl\u001b[49m\u001b[43m,\u001b[49m\n\u001b[32m   1299\u001b[39m \u001b[43m    \u001b[49m\u001b[43mheaders\u001b[49m\u001b[43m=\u001b[49m\u001b[43mhf_headers\u001b[49m\u001b[43m,\u001b[49m\n\u001b[32m   1300\u001b[39m \u001b[43m    \u001b[49m\u001b[43mallow_redirects\u001b[49m\u001b[43m=\u001b[49m\u001b[38;5;28;43;01mFalse\u001b[39;49;00m\u001b[43m,\u001b[49m\n\u001b[32m   1301\u001b[39m \u001b[43m    \u001b[49m\u001b[43mfollow_relative_redirects\u001b[49m\u001b[43m=\u001b[49m\u001b[38;5;28;43;01mTrue\u001b[39;49;00m\u001b[43m,\u001b[49m\n\u001b[32m   1302\u001b[39m \u001b[43m    \u001b[49m\u001b[43mproxies\u001b[49m\u001b[43m=\u001b[49m\u001b[43mproxies\u001b[49m\u001b[43m,\u001b[49m\n\u001b[32m   1303\u001b[39m \u001b[43m    \u001b[49m\u001b[43mtimeout\u001b[49m\u001b[43m=\u001b[49m\u001b[43mtimeout\u001b[49m\u001b[43m,\u001b[49m\n\u001b[32m   1304\u001b[39m \u001b[43m\u001b[49m\u001b[43m)\u001b[49m\n\u001b[32m   1305\u001b[39m hf_raise_for_status(r)\n\u001b[32m   1307\u001b[39m \u001b[38;5;66;03m# Return\u001b[39;00m\n",
      "\u001b[36mFile \u001b[39m\u001b[32mc:\\Users\\mhieu\\anaconda3\\envs\\rag\\Lib\\site-packages\\huggingface_hub\\file_download.py:280\u001b[39m, in \u001b[36m_request_wrapper\u001b[39m\u001b[34m(method, url, follow_relative_redirects, **params)\u001b[39m\n\u001b[32m    278\u001b[39m \u001b[38;5;66;03m# Recursively follow relative redirects\u001b[39;00m\n\u001b[32m    279\u001b[39m \u001b[38;5;28;01mif\u001b[39;00m follow_relative_redirects:\n\u001b[32m--> \u001b[39m\u001b[32m280\u001b[39m     response = \u001b[43m_request_wrapper\u001b[49m\u001b[43m(\u001b[49m\n\u001b[32m    281\u001b[39m \u001b[43m        \u001b[49m\u001b[43mmethod\u001b[49m\u001b[43m=\u001b[49m\u001b[43mmethod\u001b[49m\u001b[43m,\u001b[49m\n\u001b[32m    282\u001b[39m \u001b[43m        \u001b[49m\u001b[43murl\u001b[49m\u001b[43m=\u001b[49m\u001b[43murl\u001b[49m\u001b[43m,\u001b[49m\n\u001b[32m    283\u001b[39m \u001b[43m        \u001b[49m\u001b[43mfollow_relative_redirects\u001b[49m\u001b[43m=\u001b[49m\u001b[38;5;28;43;01mFalse\u001b[39;49;00m\u001b[43m,\u001b[49m\n\u001b[32m    284\u001b[39m \u001b[43m        \u001b[49m\u001b[43m*\u001b[49m\u001b[43m*\u001b[49m\u001b[43mparams\u001b[49m\u001b[43m,\u001b[49m\n\u001b[32m    285\u001b[39m \u001b[43m    \u001b[49m\u001b[43m)\u001b[49m\n\u001b[32m    287\u001b[39m     \u001b[38;5;66;03m# If redirection, we redirect only relative paths.\u001b[39;00m\n\u001b[32m    288\u001b[39m     \u001b[38;5;66;03m# This is useful in case of a renamed repository.\u001b[39;00m\n\u001b[32m    289\u001b[39m     \u001b[38;5;28;01mif\u001b[39;00m \u001b[32m300\u001b[39m <= response.status_code <= \u001b[32m399\u001b[39m:\n",
      "\u001b[36mFile \u001b[39m\u001b[32mc:\\Users\\mhieu\\anaconda3\\envs\\rag\\Lib\\site-packages\\huggingface_hub\\file_download.py:304\u001b[39m, in \u001b[36m_request_wrapper\u001b[39m\u001b[34m(method, url, follow_relative_redirects, **params)\u001b[39m\n\u001b[32m    302\u001b[39m \u001b[38;5;66;03m# Perform request and return if status_code is not in the retry list.\u001b[39;00m\n\u001b[32m    303\u001b[39m response = get_session().request(method=method, url=url, **params)\n\u001b[32m--> \u001b[39m\u001b[32m304\u001b[39m \u001b[43mhf_raise_for_status\u001b[49m\u001b[43m(\u001b[49m\u001b[43mresponse\u001b[49m\u001b[43m)\u001b[49m\n\u001b[32m    305\u001b[39m \u001b[38;5;28;01mreturn\u001b[39;00m response\n",
      "\u001b[36mFile \u001b[39m\u001b[32mc:\\Users\\mhieu\\anaconda3\\envs\\rag\\Lib\\site-packages\\huggingface_hub\\utils\\_http.py:481\u001b[39m, in \u001b[36mhf_raise_for_status\u001b[39m\u001b[34m(response, endpoint_name)\u001b[39m\n\u001b[32m    477\u001b[39m     \u001b[38;5;28;01mraise\u001b[39;00m _format(HfHubHTTPError, message, response) \u001b[38;5;28;01mfrom\u001b[39;00m\u001b[38;5;250m \u001b[39m\u001b[34;01me\u001b[39;00m\n\u001b[32m    479\u001b[39m \u001b[38;5;66;03m# Convert `HTTPError` into a `HfHubHTTPError` to display request information\u001b[39;00m\n\u001b[32m    480\u001b[39m \u001b[38;5;66;03m# as well (request id and/or server error message)\u001b[39;00m\n\u001b[32m--> \u001b[39m\u001b[32m481\u001b[39m \u001b[38;5;28;01mraise\u001b[39;00m _format(HfHubHTTPError, \u001b[38;5;28mstr\u001b[39m(e), response) \u001b[38;5;28;01mfrom\u001b[39;00m\u001b[38;5;250m \u001b[39m\u001b[34;01me\u001b[39;00m\n",
      "\u001b[31mHfHubHTTPError\u001b[39m: 401 Client Error: Unauthorized for url: https://huggingface.co/datasets/bkai-foundation-models/crosslingual/resolve/main/original/merged_queries_en.json (Request ID: Root=1-67e7c800-485a6a5d3a4ea5b74bd820f4;7ae69a46-db8e-41ae-86f0-6aefba8ca365)\n\nInvalid credentials in Authorization header"
     ]
    }
   ],
   "source": [
    "from huggingface_hub import hf_hub_download\n",
    "\n",
    "REPO_ID = \"bkai-foundation-models/crosslingual\"\n",
    "import os\n",
    "import requests\n",
    "\n",
    "# Define the repository and folders\n",
    "repo_id = \"bkai-foundation-models/crosslingual\"\n",
    "folders = [\"original\", \"eval\", \"synthetic\"]\n",
    "\n",
    "# Function to list files in a folder\n",
    "def list_files_in_folder(repo_id, folder):\n",
    "    url = f\"https://huggingface.co/api/datasets/{repo_id}/tree/main/{folder}\"\n",
    "    response = requests.get(url)\n",
    "    if response.status_code == 200:\n",
    "        files = [file[\"path\"] for file in response.json()]\n",
    "        return files\n",
    "    else:\n",
    "        print(f\"Failed to list files in {folder}: {response.status_code}\")\n",
    "        return []\n",
    "\n",
    "# List files in each folder\n",
    "all_files = {}\n",
    "for folder in folders:\n",
    "    files = list_files_in_folder(repo_id, folder)\n",
    "    \n",
    "    all_files[folder] = files\n",
    "    print(f\"Files in {folder}: {files}\")\n",
    "\n",
    "for folder in all_files:\n",
    "    files = all_files[folder]\n",
    "    for file in files:\n",
    "        file = file.split(\"/\")[1]\n",
    "        hf_hub_download(repo_id=REPO_ID, subfolder=folder, repo_type=\"dataset\", filename=file, local_dir=\"data\")\n",
    "    "
   ]
  },
  {
   "cell_type": "code",
   "execution_count": 4,
   "metadata": {},
   "outputs": [
    {
     "data": {
      "application/vnd.jupyter.widget-view+json": {
       "model_id": "0d1d1016c4ed412299334657f76f5b9b",
       "version_major": 2,
       "version_minor": 0
      },
      "text/plain": [
       "VBox(children=(HTML(value='<center> <img\\nsrc=https://huggingface.co/front/assets/huggingface_logo-noborder.sv…"
      ]
     },
     "metadata": {},
     "output_type": "display_data"
    },
    {
     "name": "stdout",
     "output_type": "stream",
     "text": [
      "Listing files in original...\n",
      "Found 2 files in original\n",
      "Listing files in eval...\n",
      "Found 4 files in eval\n",
      "Listing files in synthetic...\n",
      "Found 2 files in synthetic\n",
      "Downloading files from original...\n",
      "Downloading merged_queries_en.json...\n"
     ]
    },
    {
     "data": {
      "application/vnd.jupyter.widget-view+json": {
       "model_id": "85d1958e11b24d51ab51910fa610706d",
       "version_major": 2,
       "version_minor": 0
      },
      "text/plain": [
       "merged_queries_en.json:   0%|          | 0.00/52.0M [00:00<?, ?B/s]"
      ]
     },
     "metadata": {},
     "output_type": "display_data"
    },
    {
     "name": "stdout",
     "output_type": "stream",
     "text": [
      "Successfully downloaded merged_queries_en.json\n",
      "Downloading merged_queries_vi.json...\n"
     ]
    },
    {
     "data": {
      "application/vnd.jupyter.widget-view+json": {
       "model_id": "81b2bdec66ff4121910cb95810054eba",
       "version_major": 2,
       "version_minor": 0
      },
      "text/plain": [
       "merged_queries_vi.json:   0%|          | 0.00/62.3M [00:00<?, ?B/s]"
      ]
     },
     "metadata": {},
     "output_type": "display_data"
    },
    {
     "name": "stdout",
     "output_type": "stream",
     "text": [
      "Successfully downloaded merged_queries_vi.json\n",
      "Downloading files from eval...\n",
      "Downloading data_eval_law_dev_queries.json...\n"
     ]
    },
    {
     "data": {
      "application/vnd.jupyter.widget-view+json": {
       "model_id": "2680527da5b04521b23b9c2eb4877c12",
       "version_major": 2,
       "version_minor": 0
      },
      "text/plain": [
       "data_eval_law_dev_queries.json:   0%|          | 0.00/2.13M [00:00<?, ?B/s]"
      ]
     },
     "metadata": {},
     "output_type": "display_data"
    },
    {
     "name": "stdout",
     "output_type": "stream",
     "text": [
      "Successfully downloaded data_eval_law_dev_queries.json\n",
      "Downloading data_eval_law_dev_queries_en.json...\n"
     ]
    },
    {
     "data": {
      "application/vnd.jupyter.widget-view+json": {
       "model_id": "c5188e3065114183abb7d2356c876e6a",
       "version_major": 2,
       "version_minor": 0
      },
      "text/plain": [
       "data_eval_law_dev_queries_en.json:   0%|          | 0.00/1.16M [00:00<?, ?B/s]"
      ]
     },
     "metadata": {},
     "output_type": "display_data"
    },
    {
     "name": "stdout",
     "output_type": "stream",
     "text": [
      "Successfully downloaded data_eval_law_dev_queries_en.json\n",
      "Downloading filtered_corpus.json...\n"
     ]
    },
    {
     "data": {
      "application/vnd.jupyter.widget-view+json": {
       "model_id": "bf072958724e497d8bc92627be947501",
       "version_major": 2,
       "version_minor": 0
      },
      "text/plain": [
       "filtered_corpus.json:   0%|          | 0.00/556M [00:00<?, ?B/s]"
      ]
     },
     "metadata": {},
     "output_type": "display_data"
    },
    {
     "name": "stdout",
     "output_type": "stream",
     "text": [
      "Successfully downloaded filtered_corpus.json\n",
      "Downloading filtered_corpus_en.json...\n"
     ]
    },
    {
     "data": {
      "application/vnd.jupyter.widget-view+json": {
       "model_id": "f3729d47fbc54a3e83aa2a3636050b74",
       "version_major": 2,
       "version_minor": 0
      },
      "text/plain": [
       "filtered_corpus_en.json:   0%|          | 0.00/294M [00:00<?, ?B/s]"
      ]
     },
     "metadata": {},
     "output_type": "display_data"
    },
    {
     "name": "stdout",
     "output_type": "stream",
     "text": [
      "Successfully downloaded filtered_corpus_en.json\n",
      "Downloading files from synthetic...\n",
      "Downloading cross_corpus.parquet...\n"
     ]
    },
    {
     "data": {
      "application/vnd.jupyter.widget-view+json": {
       "model_id": "14b9061d442c4136a7ae8db43a1222f4",
       "version_major": 2,
       "version_minor": 0
      },
      "text/plain": [
       "cross_corpus.parquet:   0%|          | 0.00/206M [00:00<?, ?B/s]"
      ]
     },
     "metadata": {},
     "output_type": "display_data"
    },
    {
     "name": "stdout",
     "output_type": "stream",
     "text": [
      "Successfully downloaded cross_corpus.parquet\n",
      "Downloading cross_queries.parquet...\n"
     ]
    },
    {
     "data": {
      "application/vnd.jupyter.widget-view+json": {
       "model_id": "378b36fb7ad94b2586b286247df62928",
       "version_major": 2,
       "version_minor": 0
      },
      "text/plain": [
       "cross_queries.parquet:   0%|          | 0.00/361M [00:00<?, ?B/s]"
      ]
     },
     "metadata": {},
     "output_type": "display_data"
    },
    {
     "name": "stdout",
     "output_type": "stream",
     "text": [
      "Successfully downloaded cross_queries.parquet\n"
     ]
    }
   ],
   "source": [
    "from huggingface_hub import login, hf_hub_download\n",
    "import requests\n",
    "import os\n",
    "\n",
    "# Log in to Hugging Face (do this first)\n",
    "login()  # Will prompt for token or use token=\"your_token_here\"\n",
    "\n",
    "# Define the repository and folders\n",
    "REPO_ID = \"bkai-foundation-models/crosslingual\"\n",
    "folders = [\"original\", \"eval\", \"synthetic\"]\n",
    "\n",
    "# Function to list files in a folder\n",
    "def list_files_in_folder(repo_id, folder):\n",
    "    url = f\"https://huggingface.co/api/datasets/{repo_id}/tree/main/{folder}\"\n",
    "    # This will use your authenticated session\n",
    "    response = requests.get(url)\n",
    "    if response.status_code == 200:\n",
    "        files = [file[\"path\"] for file in response.json()]\n",
    "        return files\n",
    "    else:\n",
    "        print(f\"Failed to list files in {folder}: {response.status_code}\")\n",
    "        return []\n",
    "\n",
    "# Create data directory if it doesn't exist\n",
    "os.makedirs(\"data\", exist_ok=True)\n",
    "\n",
    "# List files in each folder\n",
    "all_files = {}\n",
    "for folder in folders:\n",
    "    print(f\"Listing files in {folder}...\")\n",
    "    files = list_files_in_folder(repo_id, folder)\n",
    "    all_files[folder] = files\n",
    "    print(f\"Found {len(files)} files in {folder}\")\n",
    "\n",
    "# Download files\n",
    "for folder in all_files:\n",
    "    files = all_files[folder]\n",
    "    print(f\"Downloading files from {folder}...\")\n",
    "    for file in files:\n",
    "        file_name = file.split(\"/\")[1]\n",
    "        print(f\"Downloading {file_name}...\")\n",
    "        try:\n",
    "            hf_hub_download(\n",
    "                repo_id=REPO_ID, \n",
    "                subfolder=folder, \n",
    "                repo_type=\"dataset\", \n",
    "                filename=file_name, \n",
    "                local_dir=\"data\"\n",
    "            )\n",
    "            print(f\"Successfully downloaded {file_name}\")\n",
    "        except Exception as e:\n",
    "            print(f\"Error downloading {file_name}: {e}\")"
   ]
  },
  {
   "cell_type": "code",
   "execution_count": 2,
   "metadata": {},
   "outputs": [],
   "source": [
    "import json\n",
    "data = json.load(open(\"/Users/oraichain/Desktop/DATN/data/data/eval/filtered_corpus.json\"))"
   ]
  },
  {
   "cell_type": "code",
   "execution_count": null,
   "metadata": {},
   "outputs": [],
   "source": []
  },
  {
   "cell_type": "code",
   "execution_count": 4,
   "metadata": {},
   "outputs": [
    {
     "data": {
      "text/plain": [
       "224008"
      ]
     },
     "execution_count": 4,
     "metadata": {},
     "output_type": "execute_result"
    }
   ],
   "source": [
    "len(data)"
   ]
  },
  {
   "cell_type": "code",
   "execution_count": 18,
   "metadata": {},
   "outputs": [
    {
     "name": "stdout",
     "output_type": "stream",
     "text": [
      "1. Phạm vi tuần tra:\n",
      "a) Báo động lũ ở cấp I, bố trí người tuần tra như sau:\n",
      "- Lượt đi: 01 người (ban ngày), 02 người (ban đêm) kiểm tra mặt đê, mái đê phía sông, khu vực hành lang bảo vệ đê phía sông;\n",
      "- Lượt về: 01 người (ban ngày), 02 người (ban đêm) kiểm tra mái đê phía đồng, khu vực hành lang bảo vệ đê phía đồng, mặt ruộng, hồ ao gần chân đê phía đồng;\n",
      "b) Báo động lũ ở cấp II, bố trí người tuần tra như sau:\n",
      "- Lượt đi: 01 người kiểm tra mặt đê, mái đê phía sông, khu vực hành lang bảo vệ đê phía sông; 01 người (ban ngày), 02 người (ban đêm) kiểm tra mái đê phía đồng, khu vực hành lang bảo vệ đê phía đồng, mặt ruộng, hồ ao gần chân đê phía đồng;\n",
      "- Lượt về: 01 người (ban ngày), 02 người (ban đêm) kiểm tra mặt đê, mái đê phía sông, khu vực hành lang bảo vệ đê phía sông; 01 người kiểm tra mái đê phía đồng, khu vực hành lang bảo vệ đê phía đồng, mặt ruộng, hồ ao gần chân đê phía đồng;\n",
      "c) Báo động lũ ở cấp II và có tin bão khẩn cấp đổ bộ vào khu vực hoặc báo động lũ ở cấp III trở lên, bố trí người tuần tra như sau:\n",
      "- Lượt đi: 02 người kiểm tra mái đê, khu vực hành lang bảo vệ đê phía đồng, mặt ruộng, hồ ao gần chân đê phía đồng; 01 người kiểm tra mặt đê.\n",
      "- Lượt về: 02 người kiểm tra phía đồng; 01 người kiểm tra mặt đê, mái đê và khu vực hành lang bảo vệ đê phía sông.\n",
      "d) Mỗi kíp tuần tra phải kiểm tra vượt quá phạm vi phụ trách về hai phía, mỗi phía 50m. Đối với những khu vực đã từng xảy ra sự cố hư hỏng, phải kiểm tra quan sát rộng hơn để phát hiện sự cố.\n",
      "2. Người tuần tra, canh gác phải phát hiện kịp thời những hư hỏng của đê.\n",
      "3. Khi phát hiện có hư hỏng, người tuần tra phải tiến hành các công việc sau:\n",
      "a) Xác định loại hư hỏng, vị trí, đặc điểm, kích thước của loại hư hỏng;\n",
      "b) Xác định mực nước sông so với mặt đê tại vị trí phát sinh hư hỏng;\n",
      "c) Đánh dấu bằng cách ghi bảng, cắm tiêu báo hiệu vị trí hư hỏng; nếu sự cố nghiêm trọng, phải cấm người, vật, xe cơ giới đi qua và bố trí người canh gác tại chỗ để theo dõi thường xuyên diễn biến của hư hỏng;\n",
      "d) Báo cáo kịp thời và cụ thể tình hình hư hỏng cho đội trưởng hoặc đội phó, cán bộ chuyên trách quản lý đê Điều và Ban Chỉ huy phòng, chống lụt, bão xã.\n"
     ]
    }
   ],
   "source": [
    "print(data[\"8\"])"
   ]
  },
  {
   "cell_type": "code",
   "execution_count": 2,
   "metadata": {},
   "outputs": [
    {
     "name": "stdout",
     "output_type": "stream",
     "text": [
      "                                                      pos  \\\n",
      "0       Chương I. QUY ĐỊNH CHUNG\\nĐiều 1. Phạm vi điều...   \n",
      "1       2. Dữ liệu: là tập hợp các thông tin có cấu tr...   \n",
      "2       Điều 4. Quy định về cung cấp dữ liệu\\n1. Yêu c...   \n",
      "3       3. Dữ liệu phải đảm bảo đầy đủ theo cấu trúc q...   \n",
      "4       Điều 6. Quy định sử dụng dữ liệu\\n1. Việc khai...   \n",
      "...                                                   ...   \n",
      "419938  - Paragraph 4. The Ministry of Finance shall:\\...   \n",
      "419939  - Paragraph 3. The Ministry of Science and Tec...   \n",
      "419940  Article 30. - Responsibilities of local govern...   \n",
      "419941  - Paragraph 4. The Ministry of Finance shall:\\...   \n",
      "419942  Article 30. - Responsibilities of local govern...   \n",
      "\n",
      "                                                   pos_en  \n",
      "0       Chapter I. GENERAL PROVISIONS\\nArticle 1. - Ad...  \n",
      "1       2. Data is a collection of structured informat...  \n",
      "2       Article 4. - Regulations on provision of data\\...  \n",
      "3       3. Data must be sufficient according to the st...  \n",
      "4       Article 6. - Data Usage Regulations\\n1. Exploi...  \n",
      "...                                                   ...  \n",
      "419938  - Paragraph 4. The Ministry of Finance shall:\\...  \n",
      "419939  - Paragraph 4. The Ministry of Finance shall:\\...  \n",
      "419940  Article 30. - Responsibilities of local govern...  \n",
      "419941  Article 30. - Responsibilities of local govern...  \n",
      "419942  Chapter VI. IMPLEMENTATION PROVISIONS\\nArticle...  \n",
      "\n",
      "[419943 rows x 2 columns]\n"
     ]
    }
   ],
   "source": [
    "import pandas as pd\n",
    "\n",
    "# Đọc file Parquet\n",
    "df = pd.read_parquet('C:\\\\Users\\\\mhieu\\\\Desktop\\\\TN\\\\LIGHTRAG\\\\data\\\\synthetic\\\\cross_corpus.parquet')\n",
    "\n",
    "# Hiển thị dữ liệu\n",
    "print(df)\n"
   ]
  },
  {
   "cell_type": "code",
   "execution_count": null,
   "metadata": {},
   "outputs": [],
   "source": []
  },
  {
   "cell_type": "code",
   "execution_count": null,
   "metadata": {},
   "outputs": [],
   "source": []
  },
  {
   "cell_type": "code",
   "execution_count": 20,
   "metadata": {},
   "outputs": [
    {
     "name": "stdout",
     "output_type": "stream",
     "text": [
      "                                                       pos  \\\n",
      "0        [Chương I. QUY ĐỊNH CHUNG\\nĐiều 1. Phạm vi điề...   \n",
      "1        [Chương I. QUY ĐỊNH CHUNG\\nĐiều 1. Phạm vi điề...   \n",
      "2        [Chương I. QUY ĐỊNH CHUNG\\nĐiều 1. Phạm vi điề...   \n",
      "3        [2. Dữ liệu: là tập hợp các thông tin có cấu t...   \n",
      "4        [2. Dữ liệu: là tập hợp các thông tin có cấu t...   \n",
      "...                                                    ...   \n",
      "2024407  [Chapter VI. IMPLEMENTATION PROVISIONS\\nArticl...   \n",
      "2024408  [Article 30. - Responsibilities of local gover...   \n",
      "2024409  [Article 30. - Responsibilities of local gover...   \n",
      "2024410  [Chapter VI. IMPLEMENTATION PROVISIONS\\nArticl...   \n",
      "2024411  [Article 30. - Responsibilities of local gover...   \n",
      "\n",
      "                                                     query  \\\n",
      "0        Bộ Giao thông vận tải quy định các đơn vị kinh...   \n",
      "1        Bộ Giao thông vận tải giải thích như thế nào v...   \n",
      "2        Pháp luật quy định như thế nào về việc thu nhậ...   \n",
      "3        Bộ Giao thông vận tải quy định thế nào về việc...   \n",
      "4        Đơn vị cung cấp dịch vụ giám sát hành trình củ...   \n",
      "...                                                    ...   \n",
      "2024407  Từ ngày nào thì doanh nghiệp chỉ được phép nhậ...   \n",
      "2024408  Từ ngày nào thì doanh nghiệp chỉ được phép nhậ...   \n",
      "2024409  Nếu doanh nghiệp đáp ứng đủ điều kiện trước ng...   \n",
      "2024410  Nếu doanh nghiệp đáp ứng đủ điều kiện trước ng...   \n",
      "2024411  Nếu doanh nghiệp đáp ứng đủ điều kiện trước ng...   \n",
      "\n",
      "                                                  query_en  \\\n",
      "0        The Ministry of Transport stipulates which tra...   \n",
      "1        How does the Ministry of Transport explain ter...   \n",
      "2        How does the law regulate the acquisition, man...   \n",
      "3        How does the Ministry of Transport regulate th...   \n",
      "4        What is the responsibility of the vehicle trac...   \n",
      "...                                                    ...   \n",
      "2024407  From which date is the enterprise only allowed...   \n",
      "2024408  From which date is the enterprise only allowed...   \n",
      "2024409  If the business meets the eligibility before D...   \n",
      "2024410  If the business meets the eligibility before D...   \n",
      "2024411  If the business meets the eligibility before D...   \n",
      "\n",
      "                                                    pos_en  \n",
      "0        [Chapter I. GENERAL PROVISIONS\\nArticle 1. - A...  \n",
      "1        [Chapter I. GENERAL PROVISIONS\\nArticle 1. - A...  \n",
      "2        [Chapter I. GENERAL PROVISIONS\\nArticle 1. - A...  \n",
      "3        [2. Data is a collection of structured informa...  \n",
      "4        [2. Data is a collection of structured informa...  \n",
      "...                                                    ...  \n",
      "2024407  [Chapter VI. IMPLEMENTATION PROVISIONS\\nArticl...  \n",
      "2024408  [Chapter VI. IMPLEMENTATION PROVISIONS\\nArticl...  \n",
      "2024409  [Chapter VI. IMPLEMENTATION PROVISIONS\\nArticl...  \n",
      "2024410  [Chapter VI. IMPLEMENTATION PROVISIONS\\nArticl...  \n",
      "2024411  [Chapter VI. IMPLEMENTATION PROVISIONS\\nArticl...  \n",
      "\n",
      "[2024412 rows x 4 columns]\n"
     ]
    }
   ],
   "source": [
    "import pandas as pd\n",
    "\n",
    "# Đọc file Parquet\n",
    "df = pd.read_parquet('/Users/oraichain/Desktop/DATN/data/data/synthetic/cross_queries.parquet')\n",
    "\n",
    "# Hiển thị dữ liệu\n",
    "print(df)\n"
   ]
  },
  {
   "cell_type": "code",
   "execution_count": 4,
   "metadata": {},
   "outputs": [
    {
     "name": "stdout",
     "output_type": "stream",
     "text": [
      "[('Chương I. QUY ĐỊNH CHUNG\\nĐiều 1. Phạm vi điều chỉnh. Thông tư này quy định về cung cấp, quản lý và sử dụng dữ liệu từ thiết bị giám sát hành trình của xe ô tô sau (sau đây gọi chung là thiết bị giám sát hành trình).\\nĐiều 2. Đối tượng áp dụng. Thông tư này áp dụng đối với các đơn vị kinh doanh vận tải, bến xe khách, bến xe hàng, các đơn vị cung cấp dịch vụ giám sát hành trình và các cơ quan, tổ chức, cá nhân có liên quan đến việc cung cấp, quản lý và sử dụng dữ liệu từ thiết bị giám sát hành trình của xe ô tô trong phạm vi toàn quốc.\\nĐiều 3. Giải thích từ ngữ. Trong Thông tư này, các từ ngữ dưới đây được hiểu như sau:\\n1. Hệ thống thông tin: là tập hợp các thiết bị phần cứng, phần mềm và đường truyền dùng để thu nhận, quản lý, khai thác dữ liệu từ thiết bị giám sát hành trình.\\n2. Dữ liệu: là tập hợp các thông tin có cấu trúc được truyền từ thiết bị giám sát hành trình về máy chủ dịch vụ và từ máy chủ dịch vụ truyền về Tổng cục Đường bộ Việt Nam.', 'Chapter I. GENERAL PROVISIONS\\nArticle 1. - Adjustable range. This Circular provides for provision, management and use of data from automobile trackers (hereinafter referred to as trackers).\\nArticle 2. - Subjects of application. This Circular applies to transport businesses, passenger and freight stations, vehicle tracking service providers and agencies, organizations and individuals involved in provision, management and use of data from vehicle tracking devices nationwide.\\nArticle 3. - Explain the words. In this Circular, the terms below are construed as follows:\\n1. Information system is a collection of hardware, software and transmission lines used to receive, manage and exploit data from the tracking device.\\n2. Data is a collection of structured information transmitted from the tracking device to the service server and from the service server to the Directorate for Roads of Vietnam.'), ('2. Dữ liệu: là tập hợp các thông tin có cấu trúc được truyền từ thiết bị giám sát hành trình về máy chủ dịch vụ và từ máy chủ dịch vụ truyền về Tổng cục Đường bộ Việt Nam.\\n3. Máy chủ dịch vụ: là máy chủ của đơn vị vận tải hoặc đơn vị cung cấp dịch vụ giám sát hành trình thực hiện việc tiếp nhận dữ liệu truyền về từ thiết bị giám sát hành trình và có nhiệm vụ truyền các dữ liệu bắt buộc về Tổng cục Đường bộ Việt Nam theo quy định.\\n4. Đơn vị cung cấp dịch vụ giám sát hành trình của xe ô tô (sau đây gọi dung là đơn vị cung cấp dịch vụ): là đơn vị tổ chức thực hiện việc cung cấp dịch vụ quản lý, khai thác, tổng hợp, phân tích và lưu trữ dữ liệu từ thiết bị giám sát hành trình của xe ô tô theo hợp đồng với đơn vị kinh doanh vận tải.', '2. Data is a collection of structured information transmitted from the tracking device to the service server and from the service server to the Directorate for Roads of Vietnam.\\n3. Service server is the server of the transport service provider or the tracking service provider that receives data transmitted from the tracking device and transmits mandatory data to Directorate for Roads of Vietnam as prescribed.\\nFourth. Vehicle tracking service providers (hereinafter referred to as service providers) are organizations providing services of managing, exploiting, synthesizing, analyzing and storing data from vehicle tracking devices under contracts with transport businesses.'), ('Điều 4. Quy định về cung cấp dữ liệu\\n1. Yêu cầu về cung cấp dữ liệu: dữ liệu cung cấp được chia thành 02 loại, bao gồm các dữ liệu định danh và dữ liệu giám sát hành trình.\\na) Dữ liệu định danh bao gồm: tên đơn vị kinh doanh vận tải; tên Sở Giao thông vận tải (nơi cấp giấy phép kinh doanh vận tải); biển số xe; trọng tải xe (số lượng hành khách hoặc khối lượng hàng chuyên chở cho phép tham gia giao thông); loại hình kinh doanh. Dữ liệu định danh này phải được gắn kết với dữ liệu giám sát hành trình.\\nb) Dữ liệu giám sát hành trình phải được cập nhật liên tục các thông tin bao gồm: số giấy phép lái xe; tốc độ, thời gian, tọa độ của phương tiện.\\n2. Dữ liệu từ thiết bị giám sát hành trình phải được truyền về máy chủ dịch vụ với tần suất không quá 30 giây trên một lần khi xe chạy và không quá 15 phút trên một lần khi xe dừng không hoạt động (khi xe dừng, đỗ để nghỉ trên hành trình, xe chờ vào nốt xếp khách tại các bến xe đối với tuyến cố định).', 'Article 4. - Regulations on provision of data\\n1. Data provision requirements: provided data are divided into 02 types, including identification data and tracking data.\\na. Identification data includes: name of the transport business; name of the Department of Transport (issuing the transport business license); license plate number; payload (number of passengers or volume of goods allowed to be transported); type of business. This identifier data must be linked to the tracking data.\\nb. The tracking data must be continuously updated with the following information: driving license number; speed, time and coordinates of the vehicle.\\n2. Data from the tracking device must be transmitted to the server with a frequency of not more than 30 seconds once when the vehicle is running and not more than 15 minutes once when the vehicle stops (when the vehicle stops, parks to rest on the journey, the car waits for passengers at the stations for fixed routes).'), ('3. Dữ liệu phải đảm bảo đầy đủ theo cấu trúc quy định tại Phụ lục 1 của Thông tư này và phải đảm bảo các yêu cầu sau:\\na) Dữ liệu từ thiết bị giám sát hành trình phải được truyền về máy chủ của Tổng cục Đường bộ Việt Nam trong thời gian không quá 02 phút, kể từ thời điểm máy chủ dịch vụ nhận được dữ liệu;\\nb) Dữ liệu từ thiết bị giám sát hành trình được truyền thông qua máy chủ dịch vụ về máy chủ của Tổng cục Đường bộ Việt Nam phải đảm bảo theo trình tự thời gian. Trường hợp đường truyền bị gián đoạn thì cho phép gửi đồng thời cả dữ liệu cũ và dữ liệu hiện tại khi đường truyền hoạt động bình thường;\\nc) Giao thức truyền dữ liệu theo chuẩn mở AMQP (Advanced Message Queuing Protocol). Định dạng bản tin theo chuẩn Protocol Buffers.\\n4. Máy chủ dịch vụ và máy chủ Tổng cục Đường bộ Việt Nam tham gia việc truyền, nhận dữ liệu từ thiết bị giám sát hành trình phải được đồng bộ với thời gian chuẩn Quốc gia theo chuẩn NTP (Network Time Protocol).', '3. Data must be sufficient according to the structure prescribed in Appendix 1 of this Circular and satisfy the following requirements:\\na. Data from the tracking device must be transmitted to the server of Directorate for Roads of Vietnam within 02 minutes from the time the server receives the data;\\nb. Data from the tracking device transmitted via the server to the server of Directorate for Roads of Vietnam must be in chronological order. In case the transmission line is interrupted, both old data and current data may be sent simultaneously when the transmission line operates normally;\\nc. Advanced Message Queuing Protocol (AMQP). Format your message according to Protocol Buffers.\\nFourth. Service server and server of Directorate for Roads of Vietnam participating in transmission and receipt of data from the tracking device must be synchronized with the national time according to NTP (Network Time Protocol).'), ('Điều 6. Quy định sử dụng dữ liệu\\n1. Việc khai thác dữ liệu từ thiết bị giám sát hành trình thực hiện theo quy định của pháp luật về ứng dụng công nghệ thông tin trong hoạt động của cơ quan nhà nước.\\n2. Dữ liệu từ thiết bị giám sát hành trình của phương tiện được khai thác, sử dụng để phục vụ cho công tác quản lý vận tải của đơn vị kinh doanh vận tải, cơ quan quản lý nhà nước; phục vụ công tác xử lý vi phạm theo hướng dẫn của Bộ Giao thông vận tải; phục vụ nghiên cứu khoa học và công tác khác để bảo đảm an toàn giao thông.\\n3. Thông tin, dữ liệu trong cơ sở dữ liệu từ thiết bị giám sát hành trình trên môi trường mạng được bảo mật theo quy định của pháp luật về công nghệ thông tin.\\n4. Các thông tin tổng hợp về vi phạm được ghi nhận qua thiết bị giám sát hành trình trên hệ thống thông tin của Tổng cục Đường bộ Việt Nam được công bố công khai trên trang Thông tin điện tử của Tổng cục Đường bộ Việt Nam.', 'Article 6. - Data Usage Regulations\\n1. Exploitation of data from the tracking device shall comply with regulations of law on application of information technology to operation of regulatory agencies.\\n2. Data from the vehicle tracker shall be used to serve the transport management of transport businesses and regulatory authorities; serve the handling of violations as instructed by the Ministry of Transport; serve scientific research and other tasks to ensure traffic safety.\\n3. Information and data in the database from the tracking device in the network environment shall be kept confidential in accordance with regulations of law on information technology.\\nFourth. General information about violations recorded through the tracking device on the information system of Directorate for Roads of Vietnam shall be published on the website of Directorate for Roads of Vietnam.'), ('Điều 7. Phân cấp quản lý, khai thác và sử dụng dữ liệu từ thiết bị giám sát hành trình\\n1. Tổng cục Đường bộ Việt Nam quản lý hệ thống thông tin thống nhất trong phạm vi cả nước, tổng hợp dữ liệu đầu vào được truyền về từ đơn vị kinh doanh vận tải hoặc đơn vị cung cấp dịch vụ để phân tích theo các chỉ tiêu:\\na) Tổng số lần và hành vi vi phạm của từng xe theo ngày, tháng, năm;\\nb) Tổng số lần vi phạm của xe theo từng hành vi vi phạm;\\nc) Tổng số lần vi phạm/1.000 km của từng xe, từng đơn vị kinh doanh vận tải và từng Sở Giao thông vận tải;\\nd) Tỷ lệ tổng số km vi phạm/tổng km xe chạy (tính theo %);\\nđ) Tổng hợp các xe có vi phạm quá tốc độ cao nhất;\\ne) Tổng hợp các đơn vị kinh doanh vận tải, các Sở Giao thông vận tải có tổng số lần vi phạm/1.000 km cao nhất;\\ng) Tỷ lệ người lái xe vi phạm quy định về thời gian lái xe liên tục, thời gian làm việc của lái xe trong ngày trên số ngày xe hoạt động;', 'Article 7. - Decentralized management, exploitation and use of data from the tracking device\\n1. The Directorate for Roads of Vietnam shall manage the unified information system nationwide, synthesize input data transmitted from transport businesses or service providers for analysis according to the following criteria:\\na. Total number of times and violations of each vehicle by day, month and year;\\nb. Total number of violations per violation;\\nc. Total number of violations per 1, 000 km of each vehicle, each transport business and each Department of Transport;\\nd. Percentage of violations per kilometer (%);\\ndd) Vehicles committing the highest speed violations;\\ne. Transport businesses and Departments of Transport that have the highest number of violations per 1,000 km;\\ng. Percentage of drivers violating regulations on uninterrupted driving time, working time of drivers in a day over the number of days of vehicle operation;'), ('g) Tỷ lệ người lái xe vi phạm quy định về thời gian lái xe liên tục, thời gian làm việc của lái xe trong ngày trên số ngày xe hoạt động;\\nh) Số lần và thời gian không truyền dữ liệu trong tháng của từng đơn vị kinh doanh vận tải, Sở Giao thông vận tải;\\ni) Tổng hợp tình hình vi phạm theo từng tuyến đường và theo các thời điểm khác nhau.\\n2. Sở Giao thông vận tải thực hiện việc khai thác, quản lý dữ liệu về biển số xe, trọng tải xe (số lượng hành khách hoặc khối lượng hàng chuyên chở cho phép tham gia giao thông), tên đơn vị kinh doanh vận tải và các dữ liệu vi phạm về hành trình, tốc độ xe chạy, thời gian lái xe liên tục, thời gian làm việc của lái xe trong ngày của từng đơn vị kinh doanh vận tải thuộc Sở trực tiếp quản lý thông qua tài khoản đăng nhập và mật khẩu được cung cấp để truy cập vào hệ thống thông tin của Tổng cục Đường bộ Việt Nam.\\n3. Bến xe khách, bến xe hàng được cung cấp tài khoản đăng nhập vào cơ sở dữ liệu của Tổng cục Đường bộ Việt Nam để phục vụ công tác quản lý đối với phương tiện hoạt động tại bến.', 'g. Percentage of drivers violating regulations on uninterrupted driving time, working time of drivers in a day over the number of days of vehicle operation;\\nh. Number of times and duration of failure to transmit data in a month of each transport service provider and Department of Transport;\\ni.Summing up the situation of violations on each road and at different times.\\n2. Provincial Departments of Transport shall use and manage data on license plates, payload (number of passengers or quantity of goods permitted on public roads), name of transport businesses and violation data on itinerary, speed, uninterrupted driving time, working time of drivers in a day of each transport business under their management via login accounts and passwords provided to access the information system of Directorate for Roads of Vietnam.\\n3. Passenger car terminals and cargo car terminals shall be provided with accounts for logging into the database of the Directorate for Roads of Vietnam to serve the management of vehicles operating at the terminals.'), ('3. Bến xe khách, bến xe hàng được cung cấp tài khoản đăng nhập vào cơ sở dữ liệu của Tổng cục Đường bộ Việt Nam để phục vụ công tác quản lý đối với phương tiện hoạt động tại bến.\\n4. Đơn vị vận tải hoặc đơn vị cung cấp dịch vụ được ủy quyền được cung cấp tài khoản đăng nhập vào cơ sở dữ liệu của Tổng cục Đường bộ Việt Nam để đối chiếu, kiểm chứng dữ liệu gốc đã truyền và dữ liệu đã xử lý của các phương tiện do đơn vị cung cấp dịch vụ giám sát hành trình trên hệ thống máy chủ của Tổng cục Đường bộ Việt Nam.', '3. Passenger car terminals and cargo car terminals shall be provided with accounts for logging into the database of the Directorate for Roads of Vietnam to serve the management of vehicles operating at the terminals.\\nFourth. Transport service providers or authorized service providers may provide accounts to log into the database of Directorate for Roads of Vietnam for comparison and verification of transmitted original data and processed data of vehicles on the server of Directorate for Roads of Vietnam.'), ('Điều 8. Trách nhiệm của Tổng cục Đường bộ Việt Nam\\n1. Đầu tư, xây dựng hệ thống thông tin, quản lý, nâng cấp, bảo trì trang thiết bị phần cứng, phần mềm và đường truyền dữ liệu của hệ thống thông tin, khai thác và sử dụng dữ liệu từ thiết bị giám sát hành trình.\\n2. Xây dựng phần mềm để tiếp nhận, tổng hợp, phân tích dữ liệu được truyền từ các đơn vị kinh doanh vận tải, đơn vị cung cấp dịch vụ theo mẫu quy định tại các Phụ lục từ 3 đến 21 của Thông tư này. Cảnh báo trên hệ thống thông tin của Tổng cục Đường bộ Việt Nam để các đơn vị khai thác dữ liệu thiết bị giám sát hành trình biết các trường hợp không nhận được dữ liệu từ 30 phút trở lên hoặc các sự cố về đường truyền hoặc máy chủ của Tổng cục Đường bộ Việt Nam.\\n3. Đảm bảo tính liên tục, chính xác các thông tin, dữ liệu từ thiết bị giám sát hành trình trên hệ thống thông tin khi cung cấp cho các cơ quan, đơn vị khai thác và cơ quan quản lý nhà nước có thẩm quyền khi có yêu cầu; chịu trách nhiệm về tính chính xác, trung thực của thông tin, dữ liệu cung cấp.', 'Article 8. - Responsibilities of Directorate for Roads of Vietnam\\n1. To invest in and build information systems, manage, upgrade and maintain hardware and software equipment and data transmission lines of information systems, exploit and use data from itinerary supervision equipment.\\n2. To develop software to receive, synthesize and analyze data transmitted from transport businesses and service providers according to the forms provided in Appendices 3 thru 21 to this Circular [not printed herein]. Warn on the information system of Directorate for Roads of Vietnam so that units exploiting data of tracking device know cases of not receiving data from 30 minutes or more or incidents on transmission lines or servers of Directorate for Roads of Vietnam.\\n3. Ensuring the continuity and accuracy of information and data from the tracking device on the information system when providing for the agencies, units of exploitation and competent state management agencies upon request; taking responsibility for the accuracy and truthfulness of the information and data provided.'), ('4. Cung cấp tài khoản truyền dữ liệu cho các đơn vị vận tải hoặc đơn vị cung cấp dịch vụ giám sát hành trình được ủy quyền; tài khoản đăng nhập vào hệ thống thông tin của Tổng cục Đường bộ Việt Nam cho các đơn vị theo phân cấp quản lý, khai thác và sử dụng quy định tại Điều 7 của Thông tư này.\\n5. Hướng dẫn cụ thể đối với các đơn vị kinh doanh vận tải, đơn vị cung cấp dịch vụ về phương thức và quy trình thực hiện việc truyền dữ liệu về Tổng cục Đường bộ Việt Nam.\\n6. Khai thác, sử dụng dữ liệu từ thiết bị giám sát hành trình trên hệ thống thông tin của Tổng cục Đường bộ Việt Nam phục vụ công tác quản lý nhà nước trong hoạt động vận tải, cụ thể như sau:\\na) Quản lý, thanh tra, kiểm tra hoạt động vận tải trên phạm vi toàn quốc;\\nb) Phục vụ công tác điều tra, giải quyết tai nạn giao thông của các cơ quan có thẩm quyền khi có yêu cầu bằng văn bản;\\nc) Đánh giá các đơn vị kinh doanh vận tải và các Sở Giao thông vận tải trong việc chấp hành các quy định về quản lý hoạt động vận tải trên phạm vi toàn quốc.\\n7. Hướng dẫn sử dụng, cập nhật, khai thác và quản lý hệ thống thông tin từ thiết bị giám sát hành trình cho Sở Giao thông vận tải.', 'Fourth. Provide data transmission accounts for transport units or authorized route surveillance service providers; accounts for logging into the information system of Directorate for Roads of Vietnam for units as prescribed in Article 7 of this Circular.\\nFive. Provide specific guidance for transport businesses and service providers on methods and procedures for transmitting data to Directorate for Roads of Vietnam.\\nSixth. Exploit and use data from the tracking device on the information system of Directorate for Roads of Vietnam to serve state management of transport activities, in particular:\\na.Managing, inspecting and examining transport activities nationwide;\\nb.To serve the investigation and settlement of traffic accidents at the written request of competent agencies;\\nc. Carry out assessment of compliance with regulations on management of transport nationwide by transport businesses and Departments of Transport.\\nSeventh. Guide the use, update, use and management of information system from the tracking device to the Department of Transport.')]\n",
      "10\n"
     ]
    }
   ],
   "source": [
    "top_10_pairs = df.iloc[:10, :2].values.tolist()  # Lấy 10 dòng đầu và 2 cột đầu\n",
    "\n",
    "# Chuyển thành list of tuples\n",
    "result = [tuple(pair) for pair in top_10_pairs]\n",
    "\n",
    "print(result)\n",
    "print(len(result))"
   ]
  },
  {
   "cell_type": "code",
   "execution_count": 5,
   "metadata": {},
   "outputs": [
    {
     "data": {
      "text/plain": [
       "('Điều 6. Quy định sử dụng dữ liệu\\n1. Việc khai thác dữ liệu từ thiết bị giám sát hành trình thực hiện theo quy định của pháp luật về ứng dụng công nghệ thông tin trong hoạt động của cơ quan nhà nước.\\n2. Dữ liệu từ thiết bị giám sát hành trình của phương tiện được khai thác, sử dụng để phục vụ cho công tác quản lý vận tải của đơn vị kinh doanh vận tải, cơ quan quản lý nhà nước; phục vụ công tác xử lý vi phạm theo hướng dẫn của Bộ Giao thông vận tải; phục vụ nghiên cứu khoa học và công tác khác để bảo đảm an toàn giao thông.\\n3. Thông tin, dữ liệu trong cơ sở dữ liệu từ thiết bị giám sát hành trình trên môi trường mạng được bảo mật theo quy định của pháp luật về công nghệ thông tin.\\n4. Các thông tin tổng hợp về vi phạm được ghi nhận qua thiết bị giám sát hành trình trên hệ thống thông tin của Tổng cục Đường bộ Việt Nam được công bố công khai trên trang Thông tin điện tử của Tổng cục Đường bộ Việt Nam.',\n",
       " 'Article 6. - Data Usage Regulations\\n1. Exploitation of data from the tracking device shall comply with regulations of law on application of information technology to operation of regulatory agencies.\\n2. Data from the vehicle tracker shall be used to serve the transport management of transport businesses and regulatory authorities; serve the handling of violations as instructed by the Ministry of Transport; serve scientific research and other tasks to ensure traffic safety.\\n3. Information and data in the database from the tracking device in the network environment shall be kept confidential in accordance with regulations of law on information technology.\\nFourth. General information about violations recorded through the tracking device on the information system of Directorate for Roads of Vietnam shall be published on the website of Directorate for Roads of Vietnam.')"
      ]
     },
     "execution_count": 5,
     "metadata": {},
     "output_type": "execute_result"
    }
   ],
   "source": [
    "result[4]"
   ]
  },
  {
   "cell_type": "code",
   "execution_count": 6,
   "metadata": {},
   "outputs": [],
   "source": [
    "single_data = []\n",
    "for i in range(len(result)):\n",
    "    single_data.append(result[i][0])\n",
    "    single_data.append(result[i][1])"
   ]
  },
  {
   "cell_type": "code",
   "execution_count": 7,
   "metadata": {},
   "outputs": [
    {
     "data": {
      "text/plain": [
       "20"
      ]
     },
     "execution_count": 7,
     "metadata": {},
     "output_type": "execute_result"
    }
   ],
   "source": [
    "len(single_data)"
   ]
  },
  {
   "cell_type": "code",
   "execution_count": 8,
   "metadata": {},
   "outputs": [],
   "source": [
    "import json \n",
    "with open(\"C:\\\\Users\\\\mhieu\\\\Desktop\\\\TN\\\\LIGHTRAG\\\\data\\\\single_data.json\", 'w', encoding='utf-8') as f:\n",
    "    json.dump(single_data, f, ensure_ascii=False, indent=4)"
   ]
  },
  {
   "cell_type": "code",
   "execution_count": 6,
   "metadata": {},
   "outputs": [
    {
     "name": "stderr",
     "output_type": "stream",
     "text": [
      "100%|██████████| 20/20 [00:04<00:00,  4.97it/s]\n"
     ]
    }
   ],
   "source": [
    "\n",
    "import pyarrow.parquet as pa\n",
    "table  = pa.read_table(\"data\\synthetic\\cross_queries.parquet\")\n",
    "df = table.to_pandas()\n",
    "\n",
    "# Lấy hết câu hỏi khác nhau\n",
    "all_distinct_queries = df[\"query_en\"].unique()\n",
    "\n",
    "# Obtain the small subset of questions (20 first questions)\n",
    "small_queries_list = all_distinct_queries[:20]\n",
    "\n",
    "# Take the all chunks related to that subset of questions\n",
    "df_small = df[df[\"query_en\"].isin(small_queries_list)]\n",
    "list_contexts = df_small[\"pos_en\"].to_list()\n",
    "list_contexts = list(set([a[0] for a in list_contexts]))\n",
    "\n",
    "#Build the dictionary with key is the query and value is list of indexes of relevant chunks\n",
    "true_pos = {}\n",
    "map_contexts_to_id = {contexts: i for i, contexts in enumerate(list_contexts)}\n",
    "from tqdm import tqdm\n",
    "for query in tqdm(small_queries_list):\n",
    "    pos_list = []\n",
    "    df_query_specific = df[df[\"query_en\"] == query]\n",
    "    df_query_specific.reset_index(inplace = True)\n",
    "    for i in range(len(df_query_specific)):\n",
    "        pos_list.append(map_contexts_to_id[df_query_specific[\"pos_en\"][i][0]])\n",
    "    true_pos[query] = list(set(pos_list))"
   ]
  },
  {
   "cell_type": "code",
   "execution_count": 3,
   "metadata": {},
   "outputs": [
    {
     "name": "stderr",
     "output_type": "stream",
     "text": [
      "100%|██████████| 20/20 [00:02<00:00,  9.84it/s]\n"
     ]
    }
   ],
   "source": [
    "import pyarrow.parquet as pa\n",
    "table  = pa.read_table(\"/Users/oraichain/Desktop/rag/TN/LIGHTRAG/data/data/synthetic/cross_queries.parquet\")\n",
    "df = table.to_pandas()\n",
    "\n",
    "# Lấy hết câu hỏi khác nhau\n",
    "all_distinct_queries = df[\"query_en\"].unique()\n",
    "\n",
    "# Obtain the small subset of questions (20 first questions)\n",
    "small_queries_list = all_distinct_queries[:20]\n",
    "\n",
    "# Take the all chunks related to that subset of questions\n",
    "df_small = df[df[\"query_en\"].isin(small_queries_list)]\n",
    "list_contexts = df_small[\"pos_en\"].to_list()\n",
    "list_contexts = list(set([a[0] for a in list_contexts]))\n",
    "\n",
    "#Build the dictionary with key is the query and value is list of indexes of relevant chunks\n",
    "true_pos = {}\n",
    "map_contexts_to_id = {contexts: i for i, contexts in enumerate(list_contexts)}\n",
    "from tqdm import tqdm\n",
    "for query in tqdm(small_queries_list):\n",
    "    pos_list = []\n",
    "    df_query_specific = df[df[\"query_en\"] == query]\n",
    "    df_query_specific.reset_index(inplace = True)\n",
    "    for i in range(len(df_query_specific)):\n",
    "        pos_list.append(df_query_specific[\"pos_en\"][i][0])\n",
    "    true_pos[query] = list(set(pos_list))"
   ]
  },
  {
   "cell_type": "code",
   "execution_count": 4,
   "metadata": {},
   "outputs": [
    {
     "data": {
      "text/plain": [
       "5"
      ]
     },
     "execution_count": 4,
     "metadata": {},
     "output_type": "execute_result"
    }
   ],
   "source": [
    "len(list_contexts)"
   ]
  },
  {
   "cell_type": "code",
   "execution_count": 5,
   "metadata": {},
   "outputs": [
    {
     "data": {
      "text/plain": [
       "{'The Ministry of Transport stipulates which transport business units must install tracking devices on cars?': ['Chapter I. GENERAL PROVISIONS\\nArticle 1. - Adjustable range. This Circular provides for provision, management and use of data from automobile trackers (hereinafter referred to as trackers).\\nArticle 2. - Subjects of application. This Circular applies to transport businesses, passenger and freight stations, vehicle tracking service providers and agencies, organizations and individuals involved in provision, management and use of data from vehicle tracking devices nationwide.\\nArticle 3. - Explain the words. In this Circular, the terms below are construed as follows:\\n1. Information system is a collection of hardware, software and transmission lines used to receive, manage and exploit data from the tracking device.\\n2. Data is a collection of structured information transmitted from the tracking device to the service server and from the service server to the Directorate for Roads of Vietnam.'],\n",
       " \"How does the Ministry of Transport explain terms such as ‘information system' and ‘data' in the regulation on cruise monitoring equipment?\": ['Chapter I. GENERAL PROVISIONS\\nArticle 1. - Adjustable range. This Circular provides for provision, management and use of data from automobile trackers (hereinafter referred to as trackers).\\nArticle 2. - Subjects of application. This Circular applies to transport businesses, passenger and freight stations, vehicle tracking service providers and agencies, organizations and individuals involved in provision, management and use of data from vehicle tracking devices nationwide.\\nArticle 3. - Explain the words. In this Circular, the terms below are construed as follows:\\n1. Information system is a collection of hardware, software and transmission lines used to receive, manage and exploit data from the tracking device.\\n2. Data is a collection of structured information transmitted from the tracking device to the service server and from the service server to the Directorate for Roads of Vietnam.'],\n",
       " 'How does the law regulate the acquisition, management and exploitation of data from vehicle tracking devices?': ['Chapter I. GENERAL PROVISIONS\\nArticle 1. - Adjustable range. This Circular provides for provision, management and use of data from automobile trackers (hereinafter referred to as trackers).\\nArticle 2. - Subjects of application. This Circular applies to transport businesses, passenger and freight stations, vehicle tracking service providers and agencies, organizations and individuals involved in provision, management and use of data from vehicle tracking devices nationwide.\\nArticle 3. - Explain the words. In this Circular, the terms below are construed as follows:\\n1. Information system is a collection of hardware, software and transmission lines used to receive, manage and exploit data from the tracking device.\\n2. Data is a collection of structured information transmitted from the tracking device to the service server and from the service server to the Directorate for Roads of Vietnam.'],\n",
       " 'How does the Ministry of Transport regulate the transmission of data from automobile trackers?': ['2. Data is a collection of structured information transmitted from the tracking device to the service server and from the service server to the Directorate for Roads of Vietnam.\\n3. Service server is the server of the transport service provider or the tracking service provider that receives data transmitted from the tracking device and transmits mandatory data to Directorate for Roads of Vietnam as prescribed.\\nFourth. Vehicle tracking service providers (hereinafter referred to as service providers) are organizations providing services of managing, exploiting, synthesizing, analyzing and storing data from vehicle tracking devices under contracts with transport businesses.'],\n",
       " 'What is the responsibility of the vehicle tracking service provider in transmitting data to the Directorate for Roads of Vietnam?': ['2. Data is a collection of structured information transmitted from the tracking device to the service server and from the service server to the Directorate for Roads of Vietnam.\\n3. Service server is the server of the transport service provider or the tracking service provider that receives data transmitted from the tracking device and transmits mandatory data to Directorate for Roads of Vietnam as prescribed.\\nFourth. Vehicle tracking service providers (hereinafter referred to as service providers) are organizations providing services of managing, exploiting, synthesizing, analyzing and storing data from vehicle tracking devices under contracts with transport businesses.'],\n",
       " 'How will data from the automobile tracker be stored and managed?': ['2. Data is a collection of structured information transmitted from the tracking device to the service server and from the service server to the Directorate for Roads of Vietnam.\\n3. Service server is the server of the transport service provider or the tracking service provider that receives data transmitted from the tracking device and transmits mandatory data to Directorate for Roads of Vietnam as prescribed.\\nFourth. Vehicle tracking service providers (hereinafter referred to as service providers) are organizations providing services of managing, exploiting, synthesizing, analyzing and storing data from vehicle tracking devices under contracts with transport businesses.'],\n",
       " 'How does the Ministry of Transport regulate the provision of data from automobile tracking devices?': ['Article 4. - Regulations on provision of data\\n1. Data provision requirements: provided data are divided into 02 types, including identification data and tracking data.\\na. Identification data includes: name of the transport business; name of the Department of Transport (issuing the transport business license); license plate number; payload (number of passengers or volume of goods allowed to be transported); type of business. This identifier data must be linked to the tracking data.\\nb. The tracking data must be continuously updated with the following information: driving license number; speed, time and coordinates of the vehicle.\\n2. Data from the tracking device must be transmitted to the server with a frequency of not more than 30 seconds once when the vehicle is running and not more than 15 minutes once when the vehicle stops (when the vehicle stops, parks to rest on the journey, the car waits for passengers at the stations for fixed routes).'],\n",
       " 'What kind of data is considered identifier data and must be tied to cruise surveillance data?': ['Article 4. - Regulations on provision of data\\n1. Data provision requirements: provided data are divided into 02 types, including identification data and tracking data.\\na. Identification data includes: name of the transport business; name of the Department of Transport (issuing the transport business license); license plate number; payload (number of passengers or volume of goods allowed to be transported); type of business. This identifier data must be linked to the tracking data.\\nb. The tracking data must be continuously updated with the following information: driving license number; speed, time and coordinates of the vehicle.\\n2. Data from the tracking device must be transmitted to the server with a frequency of not more than 30 seconds once when the vehicle is running and not more than 15 minutes once when the vehicle stops (when the vehicle stops, parks to rest on the journey, the car waits for passengers at the stations for fixed routes).'],\n",
       " 'What is the frequency of transmission of data to the service server when the vehicle is running and when the vehicle stops working?': ['Article 4. - Regulations on provision of data\\n1. Data provision requirements: provided data are divided into 02 types, including identification data and tracking data.\\na. Identification data includes: name of the transport business; name of the Department of Transport (issuing the transport business license); license plate number; payload (number of passengers or volume of goods allowed to be transported); type of business. This identifier data must be linked to the tracking data.\\nb. The tracking data must be continuously updated with the following information: driving license number; speed, time and coordinates of the vehicle.\\n2. Data from the tracking device must be transmitted to the server with a frequency of not more than 30 seconds once when the vehicle is running and not more than 15 minutes once when the vehicle stops (when the vehicle stops, parks to rest on the journey, the car waits for passengers at the stations for fixed routes).'],\n",
       " 'What information is required by law to be continuously updated in cruise surveillance data?': ['Article 4. - Regulations on provision of data\\n1. Data provision requirements: provided data are divided into 02 types, including identification data and tracking data.\\na. Identification data includes: name of the transport business; name of the Department of Transport (issuing the transport business license); license plate number; payload (number of passengers or volume of goods allowed to be transported); type of business. This identifier data must be linked to the tracking data.\\nb. The tracking data must be continuously updated with the following information: driving license number; speed, time and coordinates of the vehicle.\\n2. Data from the tracking device must be transmitted to the server with a frequency of not more than 30 seconds once when the vehicle is running and not more than 15 minutes once when the vehicle stops (when the vehicle stops, parks to rest on the journey, the car waits for passengers at the stations for fixed routes).'],\n",
       " 'What is the obligation of the transport business to provide data from the vehicle tracking device?': ['Article 4. - Regulations on provision of data\\n1. Data provision requirements: provided data are divided into 02 types, including identification data and tracking data.\\na. Identification data includes: name of the transport business; name of the Department of Transport (issuing the transport business license); license plate number; payload (number of passengers or volume of goods allowed to be transported); type of business. This identifier data must be linked to the tracking data.\\nb. The tracking data must be continuously updated with the following information: driving license number; speed, time and coordinates of the vehicle.\\n2. Data from the tracking device must be transmitted to the server with a frequency of not more than 30 seconds once when the vehicle is running and not more than 15 minutes once when the vehicle stops (when the vehicle stops, parks to rest on the journey, the car waits for passengers at the stations for fixed routes).'],\n",
       " 'How long does the Ministry of Transport regulate the time to transmit data from the tracking device to the server of the Directorate for Roads of Vietnam?': ['3. Data must be sufficient according to the structure prescribed in Appendix 1 of this Circular and satisfy the following requirements:\\na. Data from the tracking device must be transmitted to the server of Directorate for Roads of Vietnam within 02 minutes from the time the server receives the data;\\nb. Data from the tracking device transmitted via the server to the server of Directorate for Roads of Vietnam must be in chronological order. In case the transmission line is interrupted, both old data and current data may be sent simultaneously when the transmission line operates normally;\\nc. Advanced Message Queuing Protocol (AMQP). Format your message according to Protocol Buffers.\\nFourth. Service server and server of Directorate for Roads of Vietnam participating in transmission and receipt of data from the tracking device must be synchronized with the national time according to NTP (Network Time Protocol).'],\n",
       " 'What data transmission protocol is used to transmit data from the tracking device to the server of Directorate for Roads of Vietnam?': ['3. Data must be sufficient according to the structure prescribed in Appendix 1 of this Circular and satisfy the following requirements:\\na. Data from the tracking device must be transmitted to the server of Directorate for Roads of Vietnam within 02 minutes from the time the server receives the data;\\nb. Data from the tracking device transmitted via the server to the server of Directorate for Roads of Vietnam must be in chronological order. In case the transmission line is interrupted, both old data and current data may be sent simultaneously when the transmission line operates normally;\\nc. Advanced Message Queuing Protocol (AMQP). Format your message according to Protocol Buffers.\\nFourth. Service server and server of Directorate for Roads of Vietnam participating in transmission and receipt of data from the tracking device must be synchronized with the national time according to NTP (Network Time Protocol).'],\n",
       " 'How does the law stipulate that the service server and server of Directorate for Roads of Vietnam must synchronize time?': ['3. Data must be sufficient according to the structure prescribed in Appendix 1 of this Circular and satisfy the following requirements:\\na. Data from the tracking device must be transmitted to the server of Directorate for Roads of Vietnam within 02 minutes from the time the server receives the data;\\nb. Data from the tracking device transmitted via the server to the server of Directorate for Roads of Vietnam must be in chronological order. In case the transmission line is interrupted, both old data and current data may be sent simultaneously when the transmission line operates normally;\\nc. Advanced Message Queuing Protocol (AMQP). Format your message according to Protocol Buffers.\\nFourth. Service server and server of Directorate for Roads of Vietnam participating in transmission and receipt of data from the tracking device must be synchronized with the national time according to NTP (Network Time Protocol).'],\n",
       " 'What data structure must be ensured when transmitting from the tracking device?': ['3. Data must be sufficient according to the structure prescribed in Appendix 1 of this Circular and satisfy the following requirements:\\na. Data from the tracking device must be transmitted to the server of Directorate for Roads of Vietnam within 02 minutes from the time the server receives the data;\\nb. Data from the tracking device transmitted via the server to the server of Directorate for Roads of Vietnam must be in chronological order. In case the transmission line is interrupted, both old data and current data may be sent simultaneously when the transmission line operates normally;\\nc. Advanced Message Queuing Protocol (AMQP). Format your message according to Protocol Buffers.\\nFourth. Service server and server of Directorate for Roads of Vietnam participating in transmission and receipt of data from the tracking device must be synchronized with the national time according to NTP (Network Time Protocol).'],\n",
       " 'If the transmission is interrupted, how will the data from the tracking device be processed?': ['3. Data must be sufficient according to the structure prescribed in Appendix 1 of this Circular and satisfy the following requirements:\\na. Data from the tracking device must be transmitted to the server of Directorate for Roads of Vietnam within 02 minutes from the time the server receives the data;\\nb. Data from the tracking device transmitted via the server to the server of Directorate for Roads of Vietnam must be in chronological order. In case the transmission line is interrupted, both old data and current data may be sent simultaneously when the transmission line operates normally;\\nc. Advanced Message Queuing Protocol (AMQP). Format your message according to Protocol Buffers.\\nFourth. Service server and server of Directorate for Roads of Vietnam participating in transmission and receipt of data from the tracking device must be synchronized with the national time according to NTP (Network Time Protocol).'],\n",
       " 'How does the Ministry of Transport regulate the exploitation and use of data from automobile tracking devices?': ['Article 6. - Data Usage Regulations\\n1. Exploitation of data from the tracking device shall comply with regulations of law on application of information technology to operation of regulatory agencies.\\n2. Data from the vehicle tracker shall be used to serve the transport management of transport businesses and regulatory authorities; serve the handling of violations as instructed by the Ministry of Transport; serve scientific research and other tasks to ensure traffic safety.\\n3. Information and data in the database from the tracking device in the network environment shall be kept confidential in accordance with regulations of law on information technology.\\nFourth. General information about violations recorded through the tracking device on the information system of Directorate for Roads of Vietnam shall be published on the website of Directorate for Roads of Vietnam.'],\n",
       " 'How does the law regulate the security of information and data in the network environment in case of using the tracking device?': ['Article 6. - Data Usage Regulations\\n1. Exploitation of data from the tracking device shall comply with regulations of law on application of information technology to operation of regulatory agencies.\\n2. Data from the vehicle tracker shall be used to serve the transport management of transport businesses and regulatory authorities; serve the handling of violations as instructed by the Ministry of Transport; serve scientific research and other tasks to ensure traffic safety.\\n3. Information and data in the database from the tracking device in the network environment shall be kept confidential in accordance with regulations of law on information technology.\\nFourth. General information about violations recorded through the tracking device on the information system of Directorate for Roads of Vietnam shall be published on the website of Directorate for Roads of Vietnam.'],\n",
       " 'Information about violations through the tracking device will be publicized on which page and under what regulations?': ['Article 6. - Data Usage Regulations\\n1. Exploitation of data from the tracking device shall comply with regulations of law on application of information technology to operation of regulatory agencies.\\n2. Data from the vehicle tracker shall be used to serve the transport management of transport businesses and regulatory authorities; serve the handling of violations as instructed by the Ministry of Transport; serve scientific research and other tasks to ensure traffic safety.\\n3. Information and data in the database from the tracking device in the network environment shall be kept confidential in accordance with regulations of law on information technology.\\nFourth. General information about violations recorded through the tracking device on the information system of Directorate for Roads of Vietnam shall be published on the website of Directorate for Roads of Vietnam.'],\n",
       " 'How can the data from the tracking device be used for transport management and infringement handling?': ['Article 6. - Data Usage Regulations\\n1. Exploitation of data from the tracking device shall comply with regulations of law on application of information technology to operation of regulatory agencies.\\n2. Data from the vehicle tracker shall be used to serve the transport management of transport businesses and regulatory authorities; serve the handling of violations as instructed by the Ministry of Transport; serve scientific research and other tasks to ensure traffic safety.\\n3. Information and data in the database from the tracking device in the network environment shall be kept confidential in accordance with regulations of law on information technology.\\nFourth. General information about violations recorded through the tracking device on the information system of Directorate for Roads of Vietnam shall be published on the website of Directorate for Roads of Vietnam.']}"
      ]
     },
     "execution_count": 5,
     "metadata": {},
     "output_type": "execute_result"
    }
   ],
   "source": [
    "true_pos"
   ]
  },
  {
   "cell_type": "code",
   "execution_count": 6,
   "metadata": {},
   "outputs": [
    {
     "data": {
      "text/plain": [
       "list"
      ]
     },
     "execution_count": 6,
     "metadata": {},
     "output_type": "execute_result"
    }
   ],
   "source": [
    "type(small_queries_list.tolist())"
   ]
  },
  {
   "cell_type": "code",
   "execution_count": 7,
   "metadata": {},
   "outputs": [],
   "source": [
    "import json\n",
    "with open(\"example_benchmark/ground_truth.json\", \"w\") as f:\n",
    "    json.dump(true_pos, f, indent=4)\n",
    "    \n",
    "with open(\"example_benchmark/contexts.json\", \"w\") as f:\n",
    "    json.dump(list_contexts, f, indent=4)\n",
    "    \n",
    "with open(\"example_benchmark/queries.json\", \"w\") as f:\n",
    "    json.dump(small_queries_list.tolist(), f, indent=4)"
   ]
  },
  {
   "cell_type": "code",
   "execution_count": null,
   "metadata": {},
   "outputs": [],
   "source": []
  },
  {
   "cell_type": "code",
   "execution_count": null,
   "metadata": {},
   "outputs": [],
   "source": []
  },
  {
   "cell_type": "code",
   "execution_count": 4,
   "metadata": {},
   "outputs": [
    {
     "data": {
      "text/plain": [
       "'c:\\\\Users\\\\mhieu\\\\Desktop\\\\datn\\\\LIGHTRAG'"
      ]
     },
     "execution_count": 4,
     "metadata": {},
     "output_type": "execute_result"
    }
   ],
   "source": [
    "%pwd"
   ]
  },
  {
   "cell_type": "code",
   "execution_count": null,
   "metadata": {},
   "outputs": [],
   "source": []
  }
 ],
 "metadata": {
  "kernelspec": {
   "display_name": "rag",
   "language": "python",
   "name": "python3"
  },
  "language_info": {
   "codemirror_mode": {
    "name": "ipython",
    "version": 3
   },
   "file_extension": ".py",
   "mimetype": "text/x-python",
   "name": "python",
   "nbconvert_exporter": "python",
   "pygments_lexer": "ipython3",
   "version": "3.11.11"
  }
 },
 "nbformat": 4,
 "nbformat_minor": 2
}
