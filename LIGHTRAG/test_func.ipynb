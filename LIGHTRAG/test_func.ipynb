{
 "cells": [
  {
   "cell_type": "code",
   "execution_count": 4,
   "metadata": {},
   "outputs": [],
   "source": [
    "import re\n",
    "\n",
    "query_file = \"queries.txt\"\n",
    "\n",
    "with open(query_file, \"r\") as f:\n",
    "    data = f.read()\n",
    "\n",
    "queries = re.findall(r\"- Question \\d+: (.+)\", data)"
   ]
  },
  {
   "cell_type": "code",
   "execution_count": 5,
   "metadata": {},
   "outputs": [
    {
     "name": "stdout",
     "output_type": "stream",
     "text": [
      "['How does Dickens portray the concept of redemption through the character arc of Ebenezer Scrooge?', 'In what ways does the novella critique the social structures of 19th-century England?', 'How do the transformative experiences Scrooge undergoes relate to broader societal themes present in Dickens’ body of work?', 'Can you identify symbolic elements in the ghosts that represent societal expectations of moral behavior?', 'How do the interactions between characters highlight the importance of compassion and human connection according to Dickens?', \"What are the pivotal moments in Scrooge's character development, and how do they contribute to his transformation?\", \"How does Scrooge's perception of time influence his character development throughout the novella?\", \"In what ways do the ghosts serve as catalysts for Scrooge's personal growth?\", 'How are the supporting characters important to revealing aspects of Scrooge’s personality?', \"What narrative techniques does Dickens use to evoke empathy for Scrooge's character?\", 'How did the socio-economic conditions of Dickens’s time reflect in the themes presented in \"A Christmas Carol\"?', 'How might the novella have influenced public attitudes toward charity and social reform in the 19th century?', 'In what ways does \"A Christmas Carol\" communicate a moral message relevant to both its contemporary audience and modern readers?', 'What historical events surrounding the publication of \"A Christmas Carol\" may have affected its reception?', 'How does near history of Christmas traditions and charity work inform our understanding of the novella’s themes?', \"What patterns of sentiment can be identified during Scrooge's transformation?\", 'How does the sentiment shift interact with key events surrounding the visits of the three ghosts?', 'How do the emotional transitions contribute to the overall message of the novella?', 'In what ways does Dickens use positive and negative sentiment to contrast character behaviors?', 'How can the sentiment analysis of \"A Christmas Carol\" inform contemporary discussions about empathy and social responsibility?', 'What ethical dilemmas appear in both \"A Christmas Carol\" and \"Oliver Twist,\" and how are they addressed?', 'How does Dickens use different character archetypes to convey ethical themes across his works?', 'In what way do the moral conclusions of \"A Christmas Carol\" compare with those found in \"David Copperfield\"?', \"Which recurring ethical lessons can be identified in Dickens' canon, and how is Scrooge a representation of these lessons?\", \"How do the resolutions of Dickens' characters address or challenge moral values similarly to or differently from Scrooge’s transformation?\", 'How can the themes of social responsibility and compassion be introduced to students in relation to current societal issues?', 'In what ways can the transformation of Scrooge be utilized to discuss personal growth in students?', 'How can discussions around the historical context of the novella help students connect with the material on a deeper level?', 'What literary tools and techniques should be emphasized to help students analyze character motivations?', 'How can the structure of the novella serve as a model for students in their writing exercises?', 'How do the comprehension questions reflect the complexity of Scrooge’s character development?', 'In what ways can comprehension assessments focus on the emotional impact of the ghosts’ visits?', 'What specific skills can students develop through targeted comprehension questions based on the text?', 'How can different levels of questions (literal vs. inferential) be designed to match varied learning stages?', 'What specific excerpts would allow students to explore contrasting viewpoints regarding Christmas values?', 'How can students draw parallels between Scrooge’s experience and their own values or actions?', \"What questions could prompt students to critically analyze Dickens' message about wealth and generosity?\", 'How can students express their interpretations of compassion as depicted through various characters in the book?', 'In what ways do moral debates in the story resonate with contemporary ethical dilemmas?', \"How should discussions of the roles of the ghosts be framed to enhance students' understanding of moral guidance?\", \"How can students articulate contrasting views about wealth as both a burden and a blessing based on Scrooge's transformation?\", 'What arguments can be made for and against the portrayal of generosity in the character of Scrooge?', 'How might students incorporate historical evidence or personal anecdotes into the debate about social responsibility?', \"In what ways can the debate provoke thought about the relevance of Dickens' ideas in today’s society?\", \"What role does empathy play in understanding characters' motivations within the context of wealth in the story?\", 'How can students integrate multiple mediums (e.g., drama, visual arts, and music) into projects inspired by the novella?', 'In what ways can student projects reflect the emotional journey of Scrooge while fostering creativity?', 'How can students be encouraged to relate their projects to modern themes of generosity and community outreach?', 'What elements of storytelling should students focus on while developing their creative interpretations?', \"How can reflection on these projects aid in deeper comprehension of Dickens' intent and themes?\"]\n"
     ]
    }
   ],
   "source": [
    "print(queries)"
   ]
  },
  {
   "cell_type": "code",
   "execution_count": 6,
   "metadata": {},
   "outputs": [
    {
     "data": {
      "text/plain": [
       "50"
      ]
     },
     "execution_count": 6,
     "metadata": {},
     "output_type": "execute_result"
    }
   ],
   "source": [
    "len(queries)\n"
   ]
  },
  {
   "cell_type": "code",
   "execution_count": 1,
   "metadata": {},
   "outputs": [
    {
     "name": "stdout",
     "output_type": "stream",
     "text": [
      "<class 'list'>\n"
     ]
    }
   ],
   "source": [
    "import json\n",
    "with open(\"C:\\\\Users\\\\mhieu\\\\Desktop\\\\datn\\\\LIGHTRAG\\\\example_benchmark\\\\contexts.json\", 'r') as f:\n",
    "\n",
    "    data = json.load(f)\n",
    "print(type(data))"
   ]
  },
  {
   "cell_type": "code",
   "execution_count": null,
   "metadata": {},
   "outputs": [],
   "source": []
  }
 ],
 "metadata": {
  "kernelspec": {
   "display_name": "rag",
   "language": "python",
   "name": "python3"
  },
  "language_info": {
   "codemirror_mode": {
    "name": "ipython",
    "version": 3
   },
   "file_extension": ".py",
   "mimetype": "text/x-python",
   "name": "python",
   "nbconvert_exporter": "python",
   "pygments_lexer": "ipython3",
   "version": "3.11.11"
  }
 },
 "nbformat": 4,
 "nbformat_minor": 2
}
